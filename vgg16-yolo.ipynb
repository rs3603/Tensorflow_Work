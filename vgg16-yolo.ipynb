{
 "cells": [
  {
   "cell_type": "code",
   "execution_count": 1,
   "metadata": {
    "collapsed": true
   },
   "outputs": [],
   "source": [
    "import tensorflow as tf"
   ]
  },
  {
   "cell_type": "code",
   "execution_count": 2,
   "metadata": {
    "collapsed": true
   },
   "outputs": [],
   "source": [
    "import numpy as np"
   ]
  },
  {
   "cell_type": "code",
   "execution_count": 3,
   "metadata": {
    "collapsed": true
   },
   "outputs": [],
   "source": [
    "weights = np.load('vgg16_weights.npz')"
   ]
  },
  {
   "cell_type": "code",
   "execution_count": 4,
   "metadata": {
    "collapsed": true
   },
   "outputs": [
    {
     "data": {
      "text/plain": [
       "['conv4_3_W',\n",
       " 'conv5_1_b',\n",
       " 'conv1_2_b',\n",
       " 'conv5_2_b',\n",
       " 'conv1_1_W',\n",
       " 'conv5_3_b',\n",
       " 'conv5_2_W',\n",
       " 'conv5_3_W',\n",
       " 'conv1_1_b',\n",
       " 'fc7_b',\n",
       " 'conv5_1_W',\n",
       " 'conv1_2_W',\n",
       " 'conv3_2_W',\n",
       " 'conv4_2_b',\n",
       " 'conv4_1_b',\n",
       " 'conv3_3_W',\n",
       " 'conv2_1_b',\n",
       " 'conv3_1_b',\n",
       " 'conv2_2_W',\n",
       " 'fc6_b',\n",
       " 'fc8_b',\n",
       " 'conv4_3_b',\n",
       " 'conv2_2_b',\n",
       " 'fc6_W',\n",
       " 'fc8_W',\n",
       " 'fc7_W',\n",
       " 'conv3_2_b',\n",
       " 'conv4_2_W',\n",
       " 'conv3_3_b',\n",
       " 'conv3_1_W',\n",
       " 'conv2_1_W',\n",
       " 'conv4_1_W']"
      ]
     },
     "execution_count": 4,
     "metadata": {},
     "output_type": "execute_result"
    }
   ],
   "source": [
    "weights.keys()"
   ]
  },
  {
   "cell_type": "code",
   "execution_count": 5,
   "metadata": {
    "collapsed": true
   },
   "outputs": [],
   "source": [
    "def conv2d(x, W):\n",
    "    return tf.nn.conv2d(x, W, strides=[1, 1, 1, 1], padding='SAME')\n",
    "\n",
    "def max_pool_2x2(x):\n",
    "    return tf.nn.max_pool(x, ksize=[1, 2, 2, 1],strides=[1, 2, 2, 1], padding='SAME')"
   ]
  },
  {
   "cell_type": "code",
   "execution_count": 16,
   "metadata": {
    "collapsed": true
   },
   "outputs": [],
   "source": [
    "def weight_variable(shape):\n",
    "    initial = tf.truncated_normal(shape, stddev=0.1)\n",
    "    return tf.Variable(initial)\n",
    "\n",
    "def bias_variable(shape):\n",
    "    initial = tf.constant(0.1, shape=shape)\n",
    "    return tf.Variable(initial)"
   ]
  },
  {
   "cell_type": "code",
   "execution_count": 6,
   "metadata": {
    "collapsed": false
   },
   "outputs": [],
   "source": [
    "imgs = tf.placeholder(tf.float32, [None, 224, 224, 3])\n",
    "mean = tf.constant([123.68, 116.779, 103.939], dtype=tf.float32, shape=[1, 1, 1, 3], name='img_mean')\n",
    "img_meansubtracted = imgs - mean"
   ]
  },
  {
   "cell_type": "code",
   "execution_count": 7,
   "metadata": {
    "collapsed": true
   },
   "outputs": [],
   "source": [
    "conv1_1_W = tf.Variable(weights['conv1_1_W'])\n",
    "conv1_1_b = tf.Variable(weights['conv1_1_b'])\n",
    "out_conv1_1 = tf.nn.relu(conv2d(img_meansubtracted,conv1_1_W)+conv1_1_b)\n",
    "\n",
    "conv1_2_W = tf.Variable(weights['conv1_2_W'])\n",
    "conv1_2_b = tf.Variable(weights['conv1_2_b'])\n",
    "out_conv1_2 = tf.nn.relu(conv2d(out_conv1_1,conv1_2_W)+conv1_2_b)\n",
    "out_max1 = max_pool_2x2(out_conv1_2)"
   ]
  },
  {
   "cell_type": "code",
   "execution_count": 8,
   "metadata": {
    "collapsed": false
   },
   "outputs": [],
   "source": [
    "conv2_1_W = tf.Variable(weights['conv2_1_W'])\n",
    "conv2_1_b = tf.Variable(weights['conv2_1_b'])\n",
    "out_conv2_1 = tf.nn.relu(conv2d(out_max1,conv2_1_W)+conv2_1_b)\n",
    "\n",
    "conv2_2_W = tf.Variable(weights['conv2_2_W'])\n",
    "conv2_2_b = tf.Variable(weights['conv2_2_b'])\n",
    "out_conv2_2 = tf.nn.relu(conv2d(out_conv2_1,conv2_2_W)+conv2_2_b)\n",
    "out_max2 = max_pool_2x2(out_conv2_2)"
   ]
  },
  {
   "cell_type": "code",
   "execution_count": 9,
   "metadata": {
    "collapsed": true
   },
   "outputs": [],
   "source": [
    "conv3_1_W = tf.Variable(weights['conv3_1_W'])\n",
    "conv3_1_b = tf.Variable(weights['conv3_1_b'])\n",
    "out_conv3_1 = tf.nn.relu(conv2d(out_max2,conv3_1_W)+conv3_1_b)\n",
    "\n",
    "conv3_2_W = tf.Variable(weights['conv3_2_W'])\n",
    "conv3_2_b = tf.Variable(weights['conv3_2_b'])\n",
    "out_conv3_2 = tf.nn.relu(conv2d(out_conv3_1,conv3_2_W)+conv3_2_b)\n",
    "\n",
    "conv3_3_W = tf.Variable(weights['conv3_3_W'])\n",
    "conv3_3_b = tf.Variable(weights['conv3_3_b'])\n",
    "out_conv3_3 = tf.nn.relu(conv2d(out_conv3_2,conv3_3_W)+conv3_3_b)\n",
    "out_max3 = max_pool_2x2(out_conv3_3)"
   ]
  },
  {
   "cell_type": "code",
   "execution_count": 10,
   "metadata": {
    "collapsed": true
   },
   "outputs": [],
   "source": [
    "conv4_1_W = tf.Variable(weights['conv4_1_W'])\n",
    "conv4_1_b = tf.Variable(weights['conv4_1_b'])\n",
    "out_conv4_1 = tf.nn.relu(conv2d(out_max3,conv4_1_W)+conv4_1_b)\n",
    "\n",
    "conv4_2_W = tf.Variable(weights['conv4_2_W'])\n",
    "conv4_2_b = tf.Variable(weights['conv4_2_b'])\n",
    "out_conv4_2 = tf.nn.relu(conv2d(out_conv4_1,conv4_2_W)+conv4_2_b)\n",
    "\n",
    "conv4_3_W = tf.Variable(weights['conv4_3_W'])\n",
    "conv4_3_b = tf.Variable(weights['conv4_3_b'])\n",
    "out_conv4_3 = tf.nn.relu(conv2d(out_conv4_2,conv4_3_W)+conv4_3_b)\n",
    "out_max4 = max_pool_2x2(out_conv4_3)"
   ]
  },
  {
   "cell_type": "code",
   "execution_count": 11,
   "metadata": {
    "collapsed": true
   },
   "outputs": [],
   "source": [
    "conv5_1_W = tf.Variable(weights['conv5_1_W'])\n",
    "conv5_1_b = tf.Variable(weights['conv5_1_b'])\n",
    "out_conv5_1 = tf.nn.relu(conv2d(out_max4,conv5_1_W)+conv5_1_b)\n",
    "\n",
    "conv5_2_W = tf.Variable(weights['conv5_2_W'])\n",
    "conv5_2_b = tf.Variable(weights['conv5_2_b'])\n",
    "out_conv5_2 = tf.nn.relu(conv2d(out_conv5_1,conv5_2_W)+conv5_2_b)\n",
    "\n",
    "conv5_3_W = tf.Variable(weights['conv5_3_W'])\n",
    "conv5_3_b = tf.Variable(weights['conv5_3_b'])\n",
    "out_conv5_3 = tf.nn.relu(conv2d(out_conv5_2,conv5_3_W)+conv5_3_b)\n",
    "out_max5 = max_pool_2x2(out_conv5_3)"
   ]
  },
  {
   "cell_type": "code",
   "execution_count": 19,
   "metadata": {
    "collapsed": false
   },
   "outputs": [],
   "source": [
    "out_max5.get_shape()\n",
    "conv6_1_W = weight_variable([7, 7, 512, 25])\n",
    "conv6_1_b = bias_variable([25])\n",
    "out_conv6_1 = tf.nn.relu(conv2d(out_max5, conv6_1_W) + conv6_1_b)"
   ]
  },
  {
   "cell_type": "code",
   "execution_count": 20,
   "metadata": {
    "collapsed": false
   },
   "outputs": [
    {
     "data": {
      "text/plain": [
       "TensorShape([Dimension(None), Dimension(7), Dimension(7), Dimension(25)])"
      ]
     },
     "execution_count": 20,
     "metadata": {},
     "output_type": "execute_result"
    }
   ],
   "source": [
    "out_conv6_1.get_shape()"
   ]
  },
  {
   "cell_type": "code",
   "execution_count": null,
   "metadata": {
    "collapsed": true
   },
   "outputs": [],
   "source": []
  },
  {
   "cell_type": "code",
   "execution_count": 15,
   "metadata": {
    "collapsed": true
   },
   "outputs": [],
   "source": [
    "prediction = tf.argmax(y_conv,1)"
   ]
  },
  {
   "cell_type": "code",
   "execution_count": 16,
   "metadata": {
    "collapsed": false
   },
   "outputs": [],
   "source": [
    "sess = tf.Session()\n",
    "sess.run(tf.initialize_all_variables())"
   ]
  },
  {
   "cell_type": "code",
   "execution_count": 59,
   "metadata": {
    "collapsed": true
   },
   "outputs": [],
   "source": [
    "import cv2\n",
    "import numpy as np"
   ]
  },
  {
   "cell_type": "code",
   "execution_count": 98,
   "metadata": {
    "collapsed": true
   },
   "outputs": [],
   "source": [
    "img = cv2.imread('car.jpg')"
   ]
  },
  {
   "cell_type": "code",
   "execution_count": 100,
   "metadata": {
    "collapsed": false
   },
   "outputs": [],
   "source": [
    "img_res = cv2.resize(img,(224,224))\n",
    "a = np.ndarray((1,224,224,3))\n",
    "a.shape\n",
    "a[0] = img_res"
   ]
  },
  {
   "cell_type": "code",
   "execution_count": 101,
   "metadata": {
    "collapsed": false
   },
   "outputs": [
    {
     "data": {
      "text/plain": [
       "(1, 224, 224, 3)"
      ]
     },
     "execution_count": 101,
     "metadata": {},
     "output_type": "execute_result"
    }
   ],
   "source": [
    "a.shape"
   ]
  },
  {
   "cell_type": "code",
   "execution_count": 67,
   "metadata": {
    "collapsed": false
   },
   "outputs": [
    {
     "data": {
      "text/plain": [
       "array([929])"
      ]
     },
     "execution_count": 67,
     "metadata": {},
     "output_type": "execute_result"
    }
   ],
   "source": [
    "sess.run(prediction, feed_dict={imgs:a})"
   ]
  },
  {
   "cell_type": "code",
   "execution_count": 17,
   "metadata": {
    "collapsed": true
   },
   "outputs": [],
   "source": [
    "from scipy.misc import imread, imresize"
   ]
  },
  {
   "cell_type": "code",
   "execution_count": 65,
   "metadata": {
    "collapsed": true
   },
   "outputs": [],
   "source": [
    "img = imread('car.jpg')"
   ]
  },
  {
   "cell_type": "code",
   "execution_count": 66,
   "metadata": {
    "collapsed": false
   },
   "outputs": [
    {
     "data": {
      "text/plain": [
       "(208, 340, 3)"
      ]
     },
     "execution_count": 66,
     "metadata": {},
     "output_type": "execute_result"
    }
   ],
   "source": [
    "img.shape"
   ]
  },
  {
   "cell_type": "code",
   "execution_count": 67,
   "metadata": {
    "collapsed": false
   },
   "outputs": [],
   "source": [
    "img1 = imresize(img, (224, 224))\n",
    "#np.transpose(img1)\n",
    "#img1[:,:,0] = np.transpose(img1[:,:,2])\n",
    "#img1[:,:,1] = np.transpose(img1[:,:,1])\n",
    "#img1[:,:,2] = np.transpose(img1[:,:,0])\n",
    "#img1[:,:,0] = img1[:,:,2]\n",
    "#img1[:,:,1] = img1[:,:,1]\n",
    "#img1[:,:,2] = img1[:,:,0]"
   ]
  },
  {
   "cell_type": "code",
   "execution_count": 68,
   "metadata": {
    "collapsed": false
   },
   "outputs": [
    {
     "data": {
      "text/plain": [
       "656"
      ]
     },
     "execution_count": 68,
     "metadata": {},
     "output_type": "execute_result"
    }
   ],
   "source": [
    "sess.run(prediction, feed_dict={imgs:[img1]})[0]"
   ]
  },
  {
   "cell_type": "code",
   "execution_count": 44,
   "metadata": {
    "collapsed": false
   },
   "outputs": [],
   "source": [
    "sess.close()"
   ]
  },
  {
   "cell_type": "code",
   "execution_count": 2,
   "metadata": {
    "collapsed": true
   },
   "outputs": [],
   "source": [
    "import cv2"
   ]
  },
  {
   "cell_type": "code",
   "execution_count": 8,
   "metadata": {
    "collapsed": false
   },
   "outputs": [],
   "source": [
    "img = cv2.imread('/home/ubuntu/extern/Tensorflow_Work/VOCdevkit/VOC2012/JPEGImages/2008_007119.jpg')"
   ]
  },
  {
   "cell_type": "code",
   "execution_count": 9,
   "metadata": {
    "collapsed": false
   },
   "outputs": [
    {
     "name": "stdout",
     "output_type": "stream",
     "text": [
      "(375, 500, 3)\n"
     ]
    }
   ],
   "source": [
    "print img.shape"
   ]
  },
  {
   "cell_type": "code",
   "execution_count": 10,
   "metadata": {
    "collapsed": false
   },
   "outputs": [
    {
     "data": {
      "text/plain": [
       "True"
      ]
     },
     "execution_count": 10,
     "metadata": {},
     "output_type": "execute_result"
    }
   ],
   "source": [
    "cv2.imwrite('img.jpg',img)"
   ]
  },
  {
   "cell_type": "code",
   "execution_count": 11,
   "metadata": {
    "collapsed": true
   },
   "outputs": [],
   "source": [
    "def view_img(img):\n",
    "    cv2.imwrite(img,'img.jpg')"
   ]
  },
  {
   "cell_type": "code",
   "execution_count": 12,
   "metadata": {
    "collapsed": true
   },
   "outputs": [],
   "source": [
    "import xml.etree.ElementTree as ET"
   ]
  },
  {
   "cell_type": "code",
   "execution_count": 13,
   "metadata": {
    "collapsed": true
   },
   "outputs": [],
   "source": [
    "tree = ET.parse('/home/ubuntu/extern/Tensorflow_Work/VOCdevkit/VOC2012/Annotations/2008_007119.xml')"
   ]
  },
  {
   "cell_type": "code",
   "execution_count": 18,
   "metadata": {
    "collapsed": false
   },
   "outputs": [],
   "source": [
    "root = tree.getroot()"
   ]
  },
  {
   "cell_type": "code",
   "execution_count": 19,
   "metadata": {
    "collapsed": false
   },
   "outputs": [
    {
     "data": {
      "text/plain": [
       "'annotation'"
      ]
     },
     "execution_count": 19,
     "metadata": {},
     "output_type": "execute_result"
    }
   ],
   "source": [
    "root.tag"
   ]
  },
  {
   "cell_type": "code",
   "execution_count": 20,
   "metadata": {
    "collapsed": false
   },
   "outputs": [
    {
     "data": {
      "text/plain": [
       "{}"
      ]
     },
     "execution_count": 20,
     "metadata": {},
     "output_type": "execute_result"
    }
   ],
   "source": [
    "root.attrib"
   ]
  },
  {
   "cell_type": "code",
   "execution_count": 41,
   "metadata": {
    "collapsed": false
   },
   "outputs": [
    {
     "name": "stdout",
     "output_type": "stream",
     "text": [
      "{}\n",
      "{}\n",
      "{}\n",
      "{}\n",
      "{}\n",
      "{}\n",
      "{}\n",
      "{}\n",
      "{}\n",
      "{}\n",
      "{}\n",
      "{}\n",
      "{}\n",
      "{}\n",
      "{}\n",
      "{}\n"
     ]
    }
   ],
   "source": [
    "for child in root:\n",
    "    #print child.tag, child.attrib\n",
    "    if(child.tag=='object'):\n",
    "        for subchild in child:\n",
    "            if(subchild.tag=='bndbox'):\n",
    "                for subsubch in subchild:\n",
    "                    print subsubch.attrib"
   ]
  },
  {
   "cell_type": "code",
   "execution_count": 26,
   "metadata": {
    "collapsed": false
   },
   "outputs": [
    {
     "name": "stdout",
     "output_type": "stream",
     "text": [
      "name\n",
      "pose\n",
      "truncated\n",
      "occluded\n",
      "bndbox\n",
      "difficult\n"
     ]
    }
   ],
   "source": [
    "for objects in root[7]:\n",
    "    print objects.tag"
   ]
  },
  {
   "cell_type": "code",
   "execution_count": 54,
   "metadata": {
    "collapsed": false
   },
   "outputs": [
    {
     "name": "stdout",
     "output_type": "stream",
     "text": [
      "1\n",
      "179\n",
      "156\n",
      "1\n"
     ]
    }
   ],
   "source": [
    "for objects in root.findall('object'):\n",
    "    bndboxes = objects.findall('bndbox')\n",
    "    for bndbox in bndboxes:\n",
    "        xmins = bndbox.findall('xmin')\n",
    "        for xmin in xmins:\n",
    "            print xmin.text"
   ]
  },
  {
   "cell_type": "code",
   "execution_count": null,
   "metadata": {
    "collapsed": true
   },
   "outputs": [],
   "source": []
  }
 ],
 "metadata": {
  "kernelspec": {
   "display_name": "Python 2",
   "language": "python",
   "name": "python2"
  },
  "language_info": {
   "codemirror_mode": {
    "name": "ipython",
    "version": 2
   },
   "file_extension": ".py",
   "mimetype": "text/x-python",
   "name": "python",
   "nbconvert_exporter": "python",
   "pygments_lexer": "ipython2",
   "version": "2.7.13"
  }
 },
 "nbformat": 4,
 "nbformat_minor": 0
}
